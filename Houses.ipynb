{
 "cells": [
  {
   "cell_type": "markdown",
   "metadata": {},
   "source": [
    "<hr style=\"height:.9px;border:none;color:#333;background-color:#333;\" />\n",
    "<hr style=\"height:.9px;border:none;color:#333;background-color:#333;\" />\n",
    "\n",
    "<h2>Analyzing a Housing Data set | Machine Learning</h2>\n",
    "<h4>Model used: Regression</h4>\n",
    "Created by <a href=\"https://www.linkedin.com/in/linginenivishal/\"> Vishal Lingineni </a> <br>\n",
    "Hult International Business School<br>\n",
    "\n",
    "<hr style=\"height:.9px;border:none;color:#333;background-color:#333;\" />\n",
    "<hr style=\"height:.9px;border:none;color:#333;background-color:#333;\" />\n",
    "\n",
    "<h2>Purpose of this Script</h2><br>\n",
    "This script is designed to analyze the <a href=\"https://www.kaggle.com/prevek18/ames-housing-dataset\">Ames Housing Dataset</a>, a popular learning dataset from Kaggle.\n",
    "<br>\n",
    "<h2>Analytical Objectives</h2><br>\n",
    "a) Make a prediction for the sale price of each home, which is assumed to be a continuous variable.<br>\n",
    "b) Identify key features that impact sale price.\n",
    "<br>\n",
    "<hr style=\"height:.9px;border:none;color:#333;background-color:#333;\" /><br>"
   ]
  },
  {
   "cell_type": "markdown",
   "metadata": {},
   "source": [
    "<h2>Part I: Importing & Exploring the Data  </h2><br>"
   ]
  },
  {
   "cell_type": "code",
   "execution_count": 7,
   "metadata": {},
   "outputs": [],
   "source": [
    "# importing libraries\n",
    "import pandas as pd # data science essentials\n",
    "import matplotlib.pyplot as plt # essential graphical output\n",
    "import seaborn as sns # enhanced graphical output\n",
    "\n",
    "# specifying file name\n",
    "file = 'Ames Housing Dataset.xlsx'\n",
    "\n",
    "# reading the file into Python\n",
    "housing = pd.read_excel(io=file)"
   ]
  },
  {
   "cell_type": "markdown",
   "metadata": {},
   "source": [
    "<h3>Initial Data Exploration</h3>"
   ]
  },
  {
   "cell_type": "markdown",
   "metadata": {},
   "source": [
    "<h4>a) How many observations (i.e. rows) are present in the dataset? How many features (i.e. columns)?</h4><br>"
   ]
  },
  {
   "cell_type": "code",
   "execution_count": 10,
   "metadata": {
    "scrolled": false
   },
   "outputs": [
    {
     "name": "stdout",
     "output_type": "stream",
     "text": [
      "\n",
      "Size of Original Dataset\n",
      "------------------------\n",
      "Observations: 2930\n",
      "Features:     22\n",
      "\n"
     ]
    }
   ],
   "source": [
    "# formatting and printing the dimensions of the dataset\n",
    "print(f\"\"\"\n",
    "Size of Original Dataset\n",
    "------------------------\n",
    "Observations: {housing.shape[0]}\n",
    "Features:     {housing.shape[1]}\n",
    "\"\"\")"
   ]
  },
  {
   "cell_type": "markdown",
   "metadata": {},
   "source": [
    "<h4>b) Display general information about each variable, including types and the number of non-missing values.</h4>"
   ]
  },
  {
   "cell_type": "code",
   "execution_count": 11,
   "metadata": {},
   "outputs": [
    {
     "name": "stdout",
     "output_type": "stream",
     "text": [
      "<class 'pandas.core.frame.DataFrame'>\n",
      "RangeIndex: 2930 entries, 0 to 2929\n",
      "Data columns (total 22 columns):\n",
      "Order            2930 non-null int64\n",
      "Lot_Area         2930 non-null int64\n",
      "Street           2930 non-null object\n",
      "Lot_Config       2930 non-null object\n",
      "Neighborhood     2930 non-null object\n",
      "Overall_Qual     2930 non-null int64\n",
      "Overall_Cond     2930 non-null int64\n",
      "Mas_Vnr_Area     2907 non-null float64\n",
      "Total_Bsmt_SF    2929 non-null float64\n",
      "First_Flr_SF     2930 non-null int64\n",
      "Second_Flr_SF    2930 non-null int64\n",
      "Gr_Liv_Area      2930 non-null int64\n",
      "Full_Bath        2930 non-null int64\n",
      "Half_Bath        2930 non-null int64\n",
      "Kitchen_AbvGr    2930 non-null int64\n",
      "TotRms_AbvGr     2930 non-null int64\n",
      "Fireplaces       2930 non-null int64\n",
      "Garage_Cars      2929 non-null float64\n",
      "Garage_Area      2929 non-null float64\n",
      "Porch_Area       2930 non-null int64\n",
      "Pool_Area        2930 non-null int64\n",
      "Sale_Price       2930 non-null int64\n",
      "dtypes: float64(4), int64(15), object(3)\n",
      "memory usage: 503.7+ KB\n"
     ]
    }
   ],
   "source": [
    "# INFOrmation about each variable\n",
    "housing.info()"
   ]
  },
  {
   "cell_type": "markdown",
   "metadata": {},
   "source": [
    "It appears that the dataset contains a mix of data types. Let's analyze this in more detail as it will effect our approach to developing a machine learning model for predicting sale prices ( Sale_Price ). "
   ]
  },
  {
   "cell_type": "markdown",
   "metadata": {},
   "source": [
    "<hr style=\"height:.9px;border:none;color:#333;background-color:#333;\" /><br>\n",
    "<h3>Analyzing the Distribution of Sale Prices</h3><br>\n",
    "Notice how the Y-variable ( <em>Sale_Price</em> ) is encoded as an integer as it does not contain decimal places. This is very common in real estate pricing, but it is a slight violation of continuity. Although this informs us that our modeling results will be flawed, we must keep in mind that statistics and real-world applications are expected to have such misalignment. As a result, <strong>we do not expect our predictions to be perfect, but we do expect to develop a general understanding as to what features affect the sale price of a house in Ames, Iowa</strong>.<br><br>"
   ]
  },
  {
   "cell_type": "markdown",
   "metadata": {},
   "source": [
    "<h4>c) Develop a histogram to analyze the distribution of the Y-variable.</h4><br>\n",
    "Does it look as if this variable is normally distributed? Does it appear to be skewed positive or negative?"
   ]
  },
  {
   "cell_type": "code",
   "execution_count": 12,
   "metadata": {
    "scrolled": true
   },
   "outputs": [
    {
     "data": {
      "image/png": "[encoded data removed]",
      "text/plain": [
       "<Figure size 720x360 with 1 Axes>"
      ]
     },
     "metadata": {
      "needs_background": "light"
     },
     "output_type": "display_data"
    }
   ],
   "source": [
    "# using the updated version of distplot which is displot\n",
    "sns.displot(data   = housing,\n",
    "            x      = \"Sale_Price\",\n",
    "            height = 5,\n",
    "            aspect = 2,\n",
    "           kde=True)\n",
    "plt.show()"
   ]
  },
  {
   "cell_type": "markdown",
   "metadata": {},
   "source": [
    "Using this figure we can see that the <strong>data is aligned with the real world data</strong>, for example most of the homes are in 200,000 range than 800000 which is true. <br>\n",
    "This is a normal distribution but it is positively skewed <br>\n",
    "Lets transform this variable and see if it removes the skewness"
   ]
  },
  {
   "cell_type": "markdown",
   "metadata": {},
   "source": [
    "<hr style=\"height:.9px;border:none;color:#333;background-color:#333;\" /><br>\n",
    "<h4>d) Develop a histogram to analyze the distribution of the transformed Y-variable.</h4><br>"
   ]
  },
  {
   "cell_type": "code",
   "execution_count": 14,
   "metadata": {},
   "outputs": [],
   "source": [
    "# log transforming Sale_Price and saving it to the dataset\n",
    "housing['log_Sale_Price'] = np.log10(housing['Sale_Price'])"
   ]
  },
  {
   "cell_type": "code",
   "execution_count": 16,
   "metadata": {
    "scrolled": true
   },
   "outputs": [
    {
     "data": {
      "image/png": "[encoded data removed]",
      "text/plain": [
       "<Figure size 720x360 with 1 Axes>"
      ]
     },
     "metadata": {
      "needs_background": "light"
     },
     "output_type": "display_data"
    }
   ],
   "source": [
    "sns.displot(data=housing,x='log_Sale_Price',\n",
    "            height = 5,\n",
    "            aspect = 2,\n",
    "           kde=True)\n",
    "plt.show()"
   ]
  },
  {
   "cell_type": "markdown",
   "metadata": {},
   "source": [
    "As we can see the log values are <strong>more normally distributed and less skewed</strong> compared to the original values<br>"
   ]
  },
  {
   "cell_type": "markdown",
   "metadata": {},
   "source": [
    "<hr style=\"height:.9px;border:none;color:#333;background-color:#333;\" /><br>\n",
    "\n",
    "In the previous step, we confirmed that <em>Sale_Price</em> is continuous. Thus, we can approach our predictive modeling challenge with a linear modeling technique. Traditionally, linear models rely on the assumption that all of the variables in our model are continuous. Given this, let's use descriptive statistics to identify X-variables that meet this assumption.<br>\n",
    "<h4>e) Generate descriptive statistics for each quantitative column.</h4><br>"
   ]
  },
  {
   "cell_type": "code",
   "execution_count": 19,
   "metadata": {
    "scrolled": true
   },
   "outputs": [
    {
     "data": {
      "text/html": [
       "<div>\n",
       "<style scoped>\n",
       "    .dataframe tbody tr th:only-of-type {\n",
       "        vertical-align: middle;\n",
       "    }\n",
       "\n",
       "    .dataframe tbody tr th {\n",
       "        vertical-align: top;\n",
       "    }\n",
       "\n",
       "    .dataframe thead th {\n",
       "        text-align: right;\n",
       "    }\n",
       "</style>\n",
       "<table border=\"1\" class=\"dataframe\">\n",
       "  <thead>\n",
       "    <tr style=\"text-align: right;\">\n",
       "      <th></th>\n",
       "      <th>Order</th>\n",
       "      <th>Lot_Area</th>\n",
       "      <th>Overall_Qual</th>\n",
       "      <th>Overall_Cond</th>\n",
       "      <th>Mas_Vnr_Area</th>\n",
       "      <th>Total_Bsmt_SF</th>\n",
       "      <th>First_Flr_SF</th>\n",
       "      <th>Second_Flr_SF</th>\n",
       "      <th>Gr_Liv_Area</th>\n",
       "      <th>Full_Bath</th>\n",
       "      <th>Half_Bath</th>\n",
       "      <th>Kitchen_AbvGr</th>\n",
       "      <th>TotRms_AbvGr</th>\n",
       "      <th>Fireplaces</th>\n",
       "      <th>Garage_Cars</th>\n",
       "      <th>Garage_Area</th>\n",
       "      <th>Porch_Area</th>\n",
       "      <th>Pool_Area</th>\n",
       "      <th>Sale_Price</th>\n",
       "      <th>log_Sale_Price</th>\n",
       "    </tr>\n",
       "  </thead>\n",
       "  <tbody>\n",
       "    <tr>\n",
       "      <th>count</th>\n",
       "      <td>2930.00</td>\n",
       "      <td>2930.00</td>\n",
       "      <td>2930.00</td>\n",
       "      <td>2930.00</td>\n",
       "      <td>2907.00</td>\n",
       "      <td>2929.00</td>\n",
       "      <td>2930.00</td>\n",
       "      <td>2930.00</td>\n",
       "      <td>2930.00</td>\n",
       "      <td>2930.00</td>\n",
       "      <td>2930.00</td>\n",
       "      <td>2930.00</td>\n",
       "      <td>2930.00</td>\n",
       "      <td>2930.00</td>\n",
       "      <td>2929.00</td>\n",
       "      <td>2929.00</td>\n",
       "      <td>2930.00</td>\n",
       "      <td>2930.00</td>\n",
       "      <td>2930.00</td>\n",
       "      <td>2930.00</td>\n",
       "    </tr>\n",
       "    <tr>\n",
       "      <th>mean</th>\n",
       "      <td>1465.50</td>\n",
       "      <td>10147.92</td>\n",
       "      <td>6.09</td>\n",
       "      <td>5.56</td>\n",
       "      <td>101.90</td>\n",
       "      <td>1051.61</td>\n",
       "      <td>1159.56</td>\n",
       "      <td>335.46</td>\n",
       "      <td>1499.69</td>\n",
       "      <td>1.57</td>\n",
       "      <td>0.38</td>\n",
       "      <td>1.04</td>\n",
       "      <td>6.44</td>\n",
       "      <td>0.60</td>\n",
       "      <td>1.77</td>\n",
       "      <td>472.82</td>\n",
       "      <td>182.89</td>\n",
       "      <td>2.24</td>\n",
       "      <td>180796.06</td>\n",
       "      <td>5.22</td>\n",
       "    </tr>\n",
       "    <tr>\n",
       "      <th>std</th>\n",
       "      <td>845.96</td>\n",
       "      <td>7880.02</td>\n",
       "      <td>1.41</td>\n",
       "      <td>1.11</td>\n",
       "      <td>179.11</td>\n",
       "      <td>440.62</td>\n",
       "      <td>391.89</td>\n",
       "      <td>428.40</td>\n",
       "      <td>505.51</td>\n",
       "      <td>0.55</td>\n",
       "      <td>0.50</td>\n",
       "      <td>0.21</td>\n",
       "      <td>1.57</td>\n",
       "      <td>0.65</td>\n",
       "      <td>0.76</td>\n",
       "      <td>215.05</td>\n",
       "      <td>159.83</td>\n",
       "      <td>35.60</td>\n",
       "      <td>79886.69</td>\n",
       "      <td>0.18</td>\n",
       "    </tr>\n",
       "    <tr>\n",
       "      <th>min</th>\n",
       "      <td>1.00</td>\n",
       "      <td>1300.00</td>\n",
       "      <td>1.00</td>\n",
       "      <td>1.00</td>\n",
       "      <td>0.00</td>\n",
       "      <td>0.00</td>\n",
       "      <td>334.00</td>\n",
       "      <td>0.00</td>\n",
       "      <td>334.00</td>\n",
       "      <td>0.00</td>\n",
       "      <td>0.00</td>\n",
       "      <td>0.00</td>\n",
       "      <td>2.00</td>\n",
       "      <td>0.00</td>\n",
       "      <td>0.00</td>\n",
       "      <td>0.00</td>\n",
       "      <td>0.00</td>\n",
       "      <td>0.00</td>\n",
       "      <td>12789.00</td>\n",
       "      <td>4.11</td>\n",
       "    </tr>\n",
       "    <tr>\n",
       "      <th>25%</th>\n",
       "      <td>733.25</td>\n",
       "      <td>7440.25</td>\n",
       "      <td>5.00</td>\n",
       "      <td>5.00</td>\n",
       "      <td>0.00</td>\n",
       "      <td>793.00</td>\n",
       "      <td>876.25</td>\n",
       "      <td>0.00</td>\n",
       "      <td>1126.00</td>\n",
       "      <td>1.00</td>\n",
       "      <td>0.00</td>\n",
       "      <td>1.00</td>\n",
       "      <td>5.00</td>\n",
       "      <td>0.00</td>\n",
       "      <td>1.00</td>\n",
       "      <td>320.00</td>\n",
       "      <td>48.00</td>\n",
       "      <td>0.00</td>\n",
       "      <td>129500.00</td>\n",
       "      <td>5.11</td>\n",
       "    </tr>\n",
       "    <tr>\n",
       "      <th>50%</th>\n",
       "      <td>1465.50</td>\n",
       "      <td>9436.50</td>\n",
       "      <td>6.00</td>\n",
       "      <td>5.00</td>\n",
       "      <td>0.00</td>\n",
       "      <td>990.00</td>\n",
       "      <td>1084.00</td>\n",
       "      <td>0.00</td>\n",
       "      <td>1442.00</td>\n",
       "      <td>2.00</td>\n",
       "      <td>0.00</td>\n",
       "      <td>1.00</td>\n",
       "      <td>6.00</td>\n",
       "      <td>1.00</td>\n",
       "      <td>2.00</td>\n",
       "      <td>480.00</td>\n",
       "      <td>165.00</td>\n",
       "      <td>0.00</td>\n",
       "      <td>160000.00</td>\n",
       "      <td>5.20</td>\n",
       "    </tr>\n",
       "    <tr>\n",
       "      <th>75%</th>\n",
       "      <td>2197.75</td>\n",
       "      <td>11555.25</td>\n",
       "      <td>7.00</td>\n",
       "      <td>6.00</td>\n",
       "      <td>164.00</td>\n",
       "      <td>1302.00</td>\n",
       "      <td>1384.00</td>\n",
       "      <td>703.75</td>\n",
       "      <td>1742.75</td>\n",
       "      <td>2.00</td>\n",
       "      <td>1.00</td>\n",
       "      <td>1.00</td>\n",
       "      <td>7.00</td>\n",
       "      <td>1.00</td>\n",
       "      <td>2.00</td>\n",
       "      <td>576.00</td>\n",
       "      <td>266.00</td>\n",
       "      <td>0.00</td>\n",
       "      <td>213500.00</td>\n",
       "      <td>5.33</td>\n",
       "    </tr>\n",
       "    <tr>\n",
       "      <th>max</th>\n",
       "      <td>2930.00</td>\n",
       "      <td>215245.00</td>\n",
       "      <td>10.00</td>\n",
       "      <td>9.00</td>\n",
       "      <td>1600.00</td>\n",
       "      <td>6110.00</td>\n",
       "      <td>5095.00</td>\n",
       "      <td>2065.00</td>\n",
       "      <td>5642.00</td>\n",
       "      <td>4.00</td>\n",
       "      <td>2.00</td>\n",
       "      <td>3.00</td>\n",
       "      <td>15.00</td>\n",
       "      <td>4.00</td>\n",
       "      <td>5.00</td>\n",
       "      <td>1488.00</td>\n",
       "      <td>1424.00</td>\n",
       "      <td>800.00</td>\n",
       "      <td>755000.00</td>\n",
       "      <td>5.88</td>\n",
       "    </tr>\n",
       "  </tbody>\n",
       "</table>\n",
       "</div>"
      ],
      "text/plain": [
       "         Order   Lot_Area  Overall_Qual  Overall_Cond  Mas_Vnr_Area  Total_Bsmt_SF  First_Flr_SF  Second_Flr_SF  Gr_Liv_Area  Full_Bath  Half_Bath  Kitchen_AbvGr  TotRms_AbvGr  Fireplaces  Garage_Cars  Garage_Area  Porch_Area  Pool_Area  Sale_Price  log_Sale_Price\n",
       "count  2930.00    2930.00       2930.00       2930.00       2907.00        2929.00       2930.00        2930.00      2930.00    2930.00    2930.00        2930.00       2930.00     2930.00      2929.00      2929.00     2930.00    2930.00     2930.00         2930.00\n",
       "mean   1465.50   10147.92          6.09          5.56        101.90        1051.61       1159.56         335.46      1499.69       1.57       0.38           1.04          6.44        0.60         1.77       472.82      182.89       2.24   180796.06            5.22\n",
       "std     845.96    7880.02          1.41          1.11        179.11         440.62        391.89         428.40       505.51       0.55       0.50           0.21          1.57        0.65         0.76       215.05      159.83      35.60    79886.69            0.18\n",
       "min       1.00    1300.00          1.00          1.00          0.00           0.00        334.00           0.00       334.00       0.00       0.00           0.00          2.00        0.00         0.00         0.00        0.00       0.00    12789.00            4.11\n",
       "25%     733.25    7440.25          5.00          5.00          0.00         793.00        876.25           0.00      1126.00       1.00       0.00           1.00          5.00        0.00         1.00       320.00       48.00       0.00   129500.00            5.11\n",
       "50%    1465.50    9436.50          6.00          5.00          0.00         990.00       1084.00           0.00      1442.00       2.00       0.00           1.00          6.00        1.00         2.00       480.00      165.00       0.00   160000.00            5.20\n",
       "75%    2197.75   11555.25          7.00          6.00        164.00        1302.00       1384.00         703.75      1742.75       2.00       1.00           1.00          7.00        1.00         2.00       576.00      266.00       0.00   213500.00            5.33\n",
       "max    2930.00  215245.00         10.00          9.00       1600.00        6110.00       5095.00        2065.00      5642.00       4.00       2.00           3.00         15.00        4.00         5.00      1488.00     1424.00     800.00   755000.00            5.88"
      ]
     },
     "execution_count": 19,
     "metadata": {},
     "output_type": "execute_result"
    }
   ],
   "source": [
    "housing.describe(include = \"number\").round(2)"
   ]
  },
  {
   "cell_type": "markdown",
   "metadata": {},
   "source": [
    "<h4>f) identify the data type of each original variable in the dataset basing on the above output.</h4><br>\n",
    "Use the following groupings:\n",
    "\n",
    "* CONTINUOUS\n",
    "* INTERVAL/COUNT\n",
    "* CATEGORICAL"
   ]
  },
  {
   "cell_type": "code",
   "execution_count": 22,
   "metadata": {
    "scrolled": true
   },
   "outputs": [
    {
     "name": "stdout",
     "output_type": "stream",
     "text": [
      "CONTINUOUS\n",
      "----------\n",
      "Sale_Price (Y-variable)\n",
      "Lot_Area\n",
      "Mas_Vnr_Area\n",
      "Total_Bsmt_SF\n",
      "First_Flr_SF\n",
      "Second_Flr_SF\n",
      "Gr_Liv_Area\n",
      "Garage_Area\n",
      "Porch_Area\n",
      "Pool_Area\n",
      "\n",
      "\n",
      "INTERVAL/COUNT\n",
      "--------------\n",
      "Overall_Qual\n",
      "Overall_Cond\n",
      "Full_Bath\n",
      "Half_Bath\n",
      "Kitchen_AbvGr\n",
      "TotRms_AbvGr\n",
      "Fireplaces\n",
      "Grarage Cars\n",
      "\n",
      "\n",
      "CATEGORICAL\n",
      "-----------\n",
      "Street\n",
      "Lot Config\n",
      "Neighborhood\n",
      "Order (not to be used in modeling) \n"
     ]
    }
   ],
   "source": [
    "print(\"\"\"CONTINUOUS\n",
    "----------\n",
    "Sale_Price (Y-variable)\n",
    "Lot_Area\n",
    "Mas_Vnr_Area\n",
    "Total_Bsmt_SF\n",
    "First_Flr_SF\n",
    "Second_Flr_SF\n",
    "Gr_Liv_Area\n",
    "Garage_Area\n",
    "Porch_Area\n",
    "Pool_Area\n",
    "\n",
    "\n",
    "INTERVAL/COUNT\n",
    "--------------\n",
    "Overall_Qual\n",
    "Overall_Cond\n",
    "Full_Bath\n",
    "Half_Bath\n",
    "Kitchen_AbvGr\n",
    "TotRms_AbvGr\n",
    "Fireplaces\n",
    "Grarage Cars\n",
    "\n",
    "\n",
    "CATEGORICAL\n",
    "-----------\n",
    "Street\n",
    "Lot Config\n",
    "Neighborhood\n",
    "Order (not to be used in modeling) \"\"\")"
   ]
  },
  {
   "cell_type": "markdown",
   "metadata": {},
   "source": [
    "<h2>Part II: Handling Missing Values  </h2><br>"
   ]
  },
  {
   "cell_type": "markdown",
   "metadata": {},
   "source": [
    "<h4>a) Display the number of missing values in the dataset.</h4>"
   ]
  },
  {
   "cell_type": "code",
   "execution_count": 25,
   "metadata": {
    "scrolled": false
   },
   "outputs": [
    {
     "data": {
      "text/plain": [
       "Order              0\n",
       "Lot_Area           0\n",
       "Street             0\n",
       "Lot_Config         0\n",
       "Neighborhood       0\n",
       "Overall_Qual       0\n",
       "Overall_Cond       0\n",
       "Mas_Vnr_Area      23\n",
       "Total_Bsmt_SF      1\n",
       "First_Flr_SF       0\n",
       "Second_Flr_SF      0\n",
       "Gr_Liv_Area        0\n",
       "Full_Bath          0\n",
       "Half_Bath          0\n",
       "Kitchen_AbvGr      0\n",
       "TotRms_AbvGr       0\n",
       "Fireplaces         0\n",
       "Garage_Cars        1\n",
       "Garage_Area        1\n",
       "Porch_Area         0\n",
       "Pool_Area          0\n",
       "Sale_Price         0\n",
       "log_Sale_Price     0\n",
       "dtype: int64"
      ]
     },
     "execution_count": 25,
     "metadata": {},
     "output_type": "execute_result"
    }
   ],
   "source": [
    "# taking the housing dataset\n",
    "# and then\n",
    "# transforming it into boolean based on if a value is null\n",
    "# and then\n",
    "# summing together the results per column\n",
    "\n",
    "housing.isnull().sum(axis=0)"
   ]
  },
  {
   "cell_type": "markdown",
   "metadata": {},
   "source": [
    "<hr style=\"height:.9px;border:none;color:#333;background-color:#333;\" /><br>\n",
    "<h4>b) flagging the missing values.</h4><br>"
   ]
  },
  {
   "cell_type": "code",
   "execution_count": 26,
   "metadata": {},
   "outputs": [],
   "source": [
    "# looping to detect features with missing values\n",
    "for col in housing:\n",
    "\n",
    "    # creating columns with 1s if missing and 0 if not\n",
    "    if housing[col].isnull().astype(int).sum() > 0:\n",
    "        housing['m_'+col] = housing[col].isnull().astype(int) # flagging them"
   ]
  },
  {
   "cell_type": "code",
   "execution_count": 27,
   "metadata": {},
   "outputs": [
    {
     "data": {
      "text/plain": [
       "m_Mas_Vnr_Area     23\n",
       "m_Total_Bsmt_SF     1\n",
       "m_Garage_Cars       1\n",
       "m_Garage_Area       1\n",
       "dtype: int64"
      ]
     },
     "execution_count": 27,
     "metadata": {},
     "output_type": "execute_result"
    }
   ],
   "source": [
    "# summing the missing value flags to check the results of the loop above\n",
    "housing[    ['m_Mas_Vnr_Area', 'm_Total_Bsmt_SF',\n",
    "             'm_Garage_Cars', 'm_Garage_Area']    ].sum(axis = 0)"
   ]
  }
 ],
 "metadata": {
  "kernelspec": {
   "display_name": "Python 3",
   "language": "python",
   "name": "python3"
  },
  "language_info": {
   "codemirror_mode": {
    "name": "ipython",
    "version": 3
   },
   "file_extension": ".py",
   "mimetype": "text/x-python",
   "name": "python",
   "nbconvert_exporter": "python",
   "pygments_lexer": "ipython3",
   "version": "3.7.4"
  },
  "toc": {
   "base_numbering": 1,
   "nav_menu": {},
   "number_sections": false,
   "sideBar": true,
   "skip_h1_title": false,
   "title_cell": "Table of Contents",
   "title_sidebar": "Contents",
   "toc_cell": false,
   "toc_position": {},
   "toc_section_display": true,
   "toc_window_display": true
  },
  "varInspector": {
   "cols": {
    "lenName": 16,
    "lenType": 16,
    "lenVar": 40
   },
   "kernels_config": {
    "python": {
     "delete_cmd_postfix": "",
     "delete_cmd_prefix": "del ",
     "library": "var_list.py",
     "varRefreshCmd": "print(var_dic_list())"
    },
    "r": {
     "delete_cmd_postfix": ") ",
     "delete_cmd_prefix": "rm(",
     "library": "var_list.r",
     "varRefreshCmd": "cat(var_dic_list()) "
    }
   },
   "types_to_exclude": [
    "module",
    "function",
    "builtin_function_or_method",
    "instance",
    "_Feature"
   ],
   "window_display": false
  }
 },
 "nbformat": 4,
 "nbformat_minor": 2
}
